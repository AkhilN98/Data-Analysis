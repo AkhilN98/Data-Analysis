{
 "cells": [
  {
   "cell_type": "code",
   "execution_count": 1,
   "metadata": {},
   "outputs": [],
   "source": [
    "#Data \n",
    "revenue = [14574.49, 7606.46, 8611.41, 9175.41, 8058.65, 8105.44, 11496.28, 9766.09, 10305.32, 14379.96, 10713.97, 15433.50]\n",
    "expenses = [12051.82, 5695.07, 12319.20, 12089.72, 8658.57, 840.20, 3285.73, 5821.12, 6976.93, 16618.61, 10054.37, 3803.96]"
   ]
  },
  {
   "cell_type": "code",
   "execution_count": 2,
   "metadata": {},
   "outputs": [],
   "source": [
    "import numpy as np"
   ]
  },
  {
   "cell_type": "code",
   "execution_count": 3,
   "metadata": {},
   "outputs": [],
   "source": [
    "from numpy import array"
   ]
  },
  {
   "cell_type": "code",
   "execution_count": 4,
   "metadata": {},
   "outputs": [],
   "source": [
    "profit = []\n",
    "profit_tax = []\n",
    "profit_margin = []\n",
    "good_months= []\n",
    "bad_months= []\n",
    "best_month = []\n",
    "worst_month = []"
   ]
  },
  {
   "cell_type": "code",
   "execution_count": 15,
   "metadata": {},
   "outputs": [],
   "source": [
    "profit.clear()"
   ]
  },
  {
   "cell_type": "code",
   "execution_count": 16,
   "metadata": {},
   "outputs": [
    {
     "name": "stdout",
     "output_type": "stream",
     "text": [
      "[2522.67, 1911.39, -3707.79, -2914.31, -599.92, 7265.24, 8210.55, 3944.97, 3328.39, -2238.65, 659.6, 11629.54]\n"
     ]
    }
   ],
   "source": [
    "zip_list = zip(revenue,expenses)\n",
    "for i,j in zip_list:\n",
    "    profit.append(i-j)\n",
    "profit = list(np.around(np.array(profit),2))\n",
    "print(profit)"
   ]
  },
  {
   "cell_type": "code",
   "execution_count": 17,
   "metadata": {},
   "outputs": [
    {
     "name": "stdout",
     "output_type": "stream",
     "text": [
      "[1765.87, 1337.97, -2595.45, -2040.02, -419.94, 5085.67, 5747.38, 2761.48, 2329.87, -1567.06, 461.72, 8140.68]\n"
     ]
    }
   ],
   "source": [
    "for x in profit:\n",
    "    y = x - (x * 0.3)\n",
    "    profit_tax.append(y)\n",
    "profit_tax = list(np.around(np.array(profit_tax),2))\n",
    "print(profit_tax)"
   ]
  },
  {
   "cell_type": "code",
   "execution_count": 42,
   "metadata": {},
   "outputs": [],
   "source": [
    "profit_margin.clear()"
   ]
  },
  {
   "cell_type": "code",
   "execution_count": 43,
   "metadata": {},
   "outputs": [
    {
     "name": "stdout",
     "output_type": "stream",
     "text": [
      "[0.12, 0.18, -0.3, -0.22, -0.05, 0.63, 0.5, 0.28, 0.23, -0.11, 0.04, 0.53]\n",
      "[12.0, 18.0, -30.0, -22.0, -5.0, 63.0, 50.0, 28.0, 23.0, -11.0, 4.0, 53.0]\n"
     ]
    }
   ],
   "source": [
    "zip_margin = zip(profit_tax,revenue)\n",
    "for x,y in zip_margin:\n",
    "    z = x/y\n",
    "    profit_margin.append(z)\n",
    "profit_margin = list(np.around(np.array(profit_margin),2))\n",
    "#print(profit_margin)\n",
    "profit_margin = [x*100 for x in profit_margin]\n",
    "profit_margin = list(np.round(np.array(profit_margin)))\n",
    "print(profit_margin)"
   ]
  },
  {
   "cell_type": "code",
   "execution_count": 28,
   "metadata": {},
   "outputs": [
    {
     "name": "stdout",
     "output_type": "stream",
     "text": [
      "1750.6808333333336\n"
     ]
    }
   ],
   "source": [
    "profit_tax_array = np.array(profit_tax)\n",
    "profit_mean = profit_tax_array.mean()\n",
    "print(profit_mean)"
   ]
  },
  {
   "cell_type": "code",
   "execution_count": 30,
   "metadata": {},
   "outputs": [],
   "source": [
    "good_months.clear()\n",
    "bad_months.clear()"
   ]
  },
  {
   "cell_type": "code",
   "execution_count": 31,
   "metadata": {},
   "outputs": [
    {
     "name": "stdout",
     "output_type": "stream",
     "text": [
      "[1765.87, 5085.67, 5747.38, 2761.48, 2329.87, 8140.68]\n",
      "[1337.97, -2595.45, -2040.02, -419.94, -1567.06, 461.72]\n"
     ]
    }
   ],
   "source": [
    "for x in profit_tax:\n",
    "    if x <= profit_mean:\n",
    "        bad_months.append(x)\n",
    "    else:\n",
    "        good_months.append(x)\n",
    "good_months = list(np.around(np.array(good_months),2))\n",
    "bad_months = list(np.around(np.array(bad_months),2))\n",
    "print(good_months)\n",
    "print(bad_months)"
   ]
  },
  {
   "cell_type": "code",
   "execution_count": 32,
   "metadata": {},
   "outputs": [],
   "source": [
    "good_months_a = np.array(good_months)\n",
    "bad_months_a = np.array(bad_months)"
   ]
  },
  {
   "cell_type": "code",
   "execution_count": 34,
   "metadata": {},
   "outputs": [
    {
     "name": "stdout",
     "output_type": "stream",
     "text": [
      "[8140.68]\n",
      "[-2595.45]\n"
     ]
    }
   ],
   "source": [
    "high_number = good_months_a.max()\n",
    "low_number = bad_months_a.min()\n",
    "best_month.append(high_number)\n",
    "worst_month.append(low_number)\n",
    "print(best_month)\n",
    "print(worst_month)"
   ]
  },
  {
   "cell_type": "code",
   "execution_count": 45,
   "metadata": {},
   "outputs": [
    {
     "name": "stdout",
     "output_type": "stream",
     "text": [
      " The profit is: [2522.67, 1911.39, -3707.79, -2914.31, -599.92, 7265.24, 8210.55, 3944.97, 3328.39, -2238.65, 659.6, 11629.54], \n",
      " Profit after tax is: [1765.87, 1337.97, -2595.45, -2040.02, -419.94, 5085.67, 5747.38, 2761.48, 2329.87, -1567.06, 461.72, 8140.68], \n",
      " Profit margin is: [12.0, 18.0, -30.0, -22.0, -5.0, 63.0, 50.0, 28.0, 23.0, -11.0, 4.0, 53.0], \n",
      " Good months are: [1765.87, 5085.67, 5747.38, 2761.48, 2329.87, 8140.68], \n",
      " Bad months are: [1337.97, -2595.45, -2040.02, -419.94, -1567.06, 461.72], /n\n"
     ]
    }
   ],
   "source": [
    "print(f\" The profit is: {profit}, \\n Profit after tax is: {profit_tax}, \\n Profit margin is: {profit_margin}, \\n Good months are: {good_months}, \\n Bad months are: {bad_months}, /n\")"
   ]
  },
  {
   "cell_type": "code",
   "execution_count": null,
   "metadata": {},
   "outputs": [],
   "source": []
  }
 ],
 "metadata": {
  "kernelspec": {
   "display_name": "Python 3",
   "language": "python",
   "name": "python3"
  },
  "language_info": {
   "codemirror_mode": {
    "name": "ipython",
    "version": 3
   },
   "file_extension": ".py",
   "mimetype": "text/x-python",
   "name": "python",
   "nbconvert_exporter": "python",
   "pygments_lexer": "ipython3",
   "version": "3.7.7"
  }
 },
 "nbformat": 4,
 "nbformat_minor": 1
}
